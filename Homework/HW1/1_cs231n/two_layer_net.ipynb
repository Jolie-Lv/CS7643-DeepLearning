{
 "cells": [
  {
   "cell_type": "markdown",
   "metadata": {},
   "source": [
    "# Implementing a Neural Network\n",
    "In this exercise we will develop a neural network with fully-connected layers to perform classification, and test it out on the CIFAR-10 dataset."
   ]
  },
  {
   "cell_type": "code",
   "execution_count": 2,
   "metadata": {
    "collapsed": true
   },
   "outputs": [],
   "source": [
    "# A bit of setup\n",
    "\n",
    "import numpy as np\n",
    "import matplotlib.pyplot as plt\n",
    "\n",
    "%matplotlib inline\n",
    "plt.rcParams['figure.figsize'] = (10.0, 8.0) # set default size of plots\n",
    "plt.rcParams['image.interpolation'] = 'nearest'\n",
    "plt.rcParams['image.cmap'] = 'gray'\n",
    "\n",
    "# for auto-reloading external modules\n",
    "# see http://stackoverflow.com/questions/1907993/autoreload-of-modules-in-ipython\n",
    "%load_ext autoreload\n",
    "%autoreload 2\n",
    "\n",
    "def rel_error(x, y):\n",
    "  \"\"\" returns relative error \"\"\"\n",
    "  return np.max(np.abs(x - y) / (np.maximum(1e-8, np.abs(x) + np.abs(y))))"
   ]
  },
  {
   "cell_type": "markdown",
   "metadata": {},
   "source": [
    "The neural network parameters will be stored in a dictionary (`model` below), where the keys are the parameter names and the values are numpy arrays. Below, we initialize toy data and a toy model that we will use to verify your implementations."
   ]
  },
  {
   "cell_type": "code",
   "execution_count": 3,
   "metadata": {
    "collapsed": true
   },
   "outputs": [],
   "source": [
    "# Create some toy data to check your implementations\n",
    "input_size = 4\n",
    "hidden_size = 10\n",
    "num_classes = 3\n",
    "num_inputs = 5\n",
    "\n",
    "def init_toy_model():\n",
    "  model = {}\n",
    "  model['W1'] = np.linspace(-0.2, 0.6, num=input_size*hidden_size).reshape(input_size, hidden_size)\n",
    "  model['b1'] = np.linspace(-0.3, 0.7, num=hidden_size)\n",
    "  model['W2'] = np.linspace(-0.4, 0.1, num=hidden_size*num_classes).reshape(hidden_size, num_classes)\n",
    "  model['b2'] = np.linspace(-0.5, 0.9, num=num_classes)\n",
    "  return model\n",
    "\n",
    "def init_toy_data():\n",
    "  X = np.linspace(-0.2, 0.5, num=num_inputs*input_size).reshape(num_inputs, input_size)\n",
    "  y = np.array([0, 1, 2, 2, 1])\n",
    "  return X, y\n",
    "\n",
    "model = init_toy_model()\n",
    "X, y = init_toy_data()"
   ]
  },
  {
   "cell_type": "markdown",
   "metadata": {},
   "source": [
    "# Forward pass: compute scores\n",
    "Open the file `cs231n/classifiers/neural_net.py` and look at the function `two_layer_net`. This function is very similar to the loss functions you have written for the Softmax exercise in HW0: It takes the data and weights and computes the class scores, the loss, and the gradients on the parameters. \n",
    "\n",
    "Implement the first part of the forward pass which uses the weights and biases to compute the scores for all inputs."
   ]
  },
  {
   "cell_type": "code",
   "execution_count": 4,
   "metadata": {},
   "outputs": [
    {
     "name": "stdout",
     "output_type": "stream",
     "text": [
      "[[-0.5328368   0.20031504  0.93346689]\n",
      " [-0.59412164  0.15498488  0.9040914 ]\n",
      " [-0.67658362  0.08978957  0.85616275]\n",
      " [-0.77092643  0.01339997  0.79772637]\n",
      " [-0.89110401 -0.08754544  0.71601312]]\n",
      "Difference between your scores and correct scores:\n",
      "3.84868230029e-08\n"
     ]
    }
   ],
   "source": [
    "from cs231n.classifiers.neural_net import two_layer_net\n",
    "\n",
    "scores = two_layer_net(X, model)\n",
    "print(scores)\n",
    "correct_scores = [[-0.5328368, 0.20031504, 0.93346689],\n",
    " [-0.59412164, 0.15498488, 0.9040914 ],\n",
    " [-0.67658362, 0.08978957, 0.85616275],\n",
    " [-0.77092643, 0.01339997, 0.79772637],\n",
    " [-0.89110401, -0.08754544, 0.71601312]]\n",
    "\n",
    "# the difference should be very small. We get 3e-8\n",
    "print('Difference between your scores and correct scores:')\n",
    "print(np.sum(np.abs(scores - correct_scores)))"
   ]
  },
  {
   "cell_type": "markdown",
   "metadata": {},
   "source": [
    "# Forward pass: compute loss\n",
    "In the same function, implement the second part that computes the data and regularizaion loss."
   ]
  },
  {
   "cell_type": "code",
   "execution_count": 5,
   "metadata": {},
   "outputs": [
    {
     "name": "stdout",
     "output_type": "stream",
     "text": [
      "Difference between your loss and correct loss:\n",
      "4.67692551354e-12\n"
     ]
    }
   ],
   "source": [
    "reg = 0.1\n",
    "loss, _ = two_layer_net(X, model, y, reg)\n",
    "correct_loss = 1.38191946092\n",
    "\n",
    "# should be very small, we get 5e-12\n",
    "print('Difference between your loss and correct loss:')\n",
    "print(np.sum(np.abs(loss - correct_loss)))"
   ]
  },
  {
   "cell_type": "markdown",
   "metadata": {},
   "source": [
    "# Backward pass\n",
    "Implement the rest of the function. This will compute the gradient of the loss with respect to the variables `W1`, `b1`, `W2`, and `b2`. Now that you (hopefully!) have a correctly implemented forward pass, you can debug your backward pass using a numeric gradient check:"
   ]
  },
  {
   "cell_type": "code",
   "execution_count": 15,
   "metadata": {},
   "outputs": [
    {
     "name": "stdout",
     "output_type": "stream",
     "text": [
      "W1 max relative error: 4.426512e-09\n",
      "W2 max relative error: 2.045492e-09\n",
      "b2 max relative error: 7.311059e-11\n",
      "b1 max relative error: 2.746124e-08\n"
     ]
    }
   ],
   "source": [
    "from cs231n.gradient_check import eval_numerical_gradient\n",
    "\n",
    "# Use numeric gradient checking to check your implementation of the backward pass.\n",
    "# If your implementation is correct, the difference between the numeric and\n",
    "# analytic gradients should be less than 1e-8 for each of W1, W2, b1, and b2.\n",
    "\n",
    "loss, grads = two_layer_net(X, model, y, reg)\n",
    "\n",
    "# these should all be less than 1e-8 or so\n",
    "for param_name in grads:\n",
    "  param_grad_num = eval_numerical_gradient(lambda W: two_layer_net(X, model, y, reg)[0], model[param_name], verbose=False)\n",
    "  print('%s max relative error: %e' % (param_name, rel_error(param_grad_num, grads[param_name])))"
   ]
  },
  {
   "cell_type": "markdown",
   "metadata": {},
   "source": [
    "# Train the network\n",
    "To train the network we will use SGD with Momentum. Last assignment you implemented vanilla SGD. You will now implement the momentum update and the RMSProp update. Open the file `classifier_trainer.py` and familiarize yourself with the `ClassifierTrainer` class. It performs optimization given an arbitrary cost function data, and model. By default it uses vanilla SGD, which we have already implemented for you. First, run the optimization below using Vanilla SGD:"
   ]
  },
  {
   "cell_type": "code",
   "execution_count": 29,
   "metadata": {},
   "outputs": [
    {
     "name": "stdout",
     "output_type": "stream",
     "text": [
      "starting iteration  0\n",
      "Finished epoch 0 / 100: cost 1.125220, train: 0.400000, val 0.400000, lr 1.000000e-01\n",
      "Finished epoch 1 / 100: cost 1.107355, train: 0.400000, val 0.400000, lr 1.000000e-01\n",
      "Finished epoch 2 / 100: cost 1.094051, train: 0.400000, val 0.400000, lr 1.000000e-01\n",
      "Finished epoch 3 / 100: cost 1.084137, train: 0.400000, val 0.400000, lr 1.000000e-01\n",
      "Finished epoch 4 / 100: cost 1.076713, train: 0.400000, val 0.400000, lr 1.000000e-01\n",
      "Finished epoch 5 / 100: cost 1.071104, train: 0.400000, val 0.400000, lr 1.000000e-01\n",
      "Finished epoch 6 / 100: cost 1.066806, train: 0.400000, val 0.400000, lr 1.000000e-01\n",
      "Finished epoch 7 / 100: cost 1.063451, train: 0.400000, val 0.400000, lr 1.000000e-01\n",
      "Finished epoch 8 / 100: cost 1.060770, train: 0.400000, val 0.400000, lr 1.000000e-01\n",
      "Finished epoch 9 / 100: cost 1.058569, train: 0.400000, val 0.400000, lr 1.000000e-01\n",
      "starting iteration  10\n",
      "Finished epoch 10 / 100: cost 1.056708, train: 0.600000, val 0.600000, lr 1.000000e-01\n",
      "Finished epoch 11 / 100: cost 1.055089, train: 0.600000, val 0.600000, lr 1.000000e-01\n",
      "Finished epoch 12 / 100: cost 1.053640, train: 0.600000, val 0.600000, lr 1.000000e-01\n",
      "Finished epoch 13 / 100: cost 1.052310, train: 0.600000, val 0.600000, lr 1.000000e-01\n",
      "Finished epoch 14 / 100: cost 1.051064, train: 0.400000, val 0.400000, lr 1.000000e-01\n",
      "Finished epoch 15 / 100: cost 1.049876, train: 0.400000, val 0.400000, lr 1.000000e-01\n",
      "Finished epoch 16 / 100: cost 1.048728, train: 0.400000, val 0.400000, lr 1.000000e-01\n",
      "Finished epoch 17 / 100: cost 1.047607, train: 0.400000, val 0.400000, lr 1.000000e-01\n",
      "Finished epoch 18 / 100: cost 1.046504, train: 0.400000, val 0.400000, lr 1.000000e-01\n",
      "Finished epoch 19 / 100: cost 1.045412, train: 0.400000, val 0.400000, lr 1.000000e-01\n",
      "starting iteration  20\n",
      "Finished epoch 20 / 100: cost 1.044328, train: 0.400000, val 0.400000, lr 1.000000e-01\n",
      "Finished epoch 21 / 100: cost 1.043246, train: 0.400000, val 0.400000, lr 1.000000e-01\n",
      "Finished epoch 22 / 100: cost 1.042166, train: 0.400000, val 0.400000, lr 1.000000e-01\n",
      "Finished epoch 23 / 100: cost 1.041085, train: 0.400000, val 0.400000, lr 1.000000e-01\n",
      "Finished epoch 24 / 100: cost 1.040002, train: 0.400000, val 0.400000, lr 1.000000e-01\n",
      "Finished epoch 25 / 100: cost 1.038916, train: 0.400000, val 0.400000, lr 1.000000e-01\n",
      "Finished epoch 26 / 100: cost 1.037826, train: 0.400000, val 0.400000, lr 1.000000e-01\n",
      "Finished epoch 27 / 100: cost 1.036732, train: 0.400000, val 0.400000, lr 1.000000e-01\n",
      "Finished epoch 28 / 100: cost 1.035632, train: 0.400000, val 0.400000, lr 1.000000e-01\n",
      "Finished epoch 29 / 100: cost 1.034527, train: 0.400000, val 0.400000, lr 1.000000e-01\n",
      "starting iteration  30\n",
      "Finished epoch 30 / 100: cost 1.033417, train: 0.400000, val 0.400000, lr 1.000000e-01\n",
      "Finished epoch 31 / 100: cost 1.032300, train: 0.400000, val 0.400000, lr 1.000000e-01\n",
      "Finished epoch 32 / 100: cost 1.031176, train: 0.400000, val 0.400000, lr 1.000000e-01\n",
      "Finished epoch 33 / 100: cost 1.030046, train: 0.400000, val 0.400000, lr 1.000000e-01\n",
      "Finished epoch 34 / 100: cost 1.028918, train: 0.400000, val 0.400000, lr 1.000000e-01\n",
      "Finished epoch 35 / 100: cost 1.027800, train: 0.400000, val 0.400000, lr 1.000000e-01\n",
      "Finished epoch 36 / 100: cost 1.026662, train: 0.400000, val 0.400000, lr 1.000000e-01\n",
      "Finished epoch 37 / 100: cost 1.025530, train: 0.400000, val 0.400000, lr 1.000000e-01\n",
      "Finished epoch 38 / 100: cost 1.024383, train: 0.400000, val 0.400000, lr 1.000000e-01\n",
      "Finished epoch 39 / 100: cost 1.023236, train: 0.400000, val 0.400000, lr 1.000000e-01\n",
      "starting iteration  40\n",
      "Finished epoch 40 / 100: cost 1.022078, train: 0.400000, val 0.400000, lr 1.000000e-01\n",
      "Finished epoch 41 / 100: cost 1.020915, train: 0.400000, val 0.400000, lr 1.000000e-01\n",
      "Finished epoch 42 / 100: cost 1.019746, train: 0.400000, val 0.400000, lr 1.000000e-01\n",
      "Finished epoch 43 / 100: cost 1.018566, train: 0.400000, val 0.400000, lr 1.000000e-01\n",
      "Finished epoch 44 / 100: cost 1.017386, train: 0.400000, val 0.400000, lr 1.000000e-01\n",
      "Finished epoch 45 / 100: cost 1.016187, train: 0.400000, val 0.400000, lr 1.000000e-01\n",
      "Finished epoch 46 / 100: cost 1.014996, train: 0.400000, val 0.400000, lr 1.000000e-01\n",
      "Finished epoch 47 / 100: cost 1.013777, train: 0.400000, val 0.400000, lr 1.000000e-01\n",
      "Finished epoch 48 / 100: cost 1.012575, train: 0.400000, val 0.400000, lr 1.000000e-01\n",
      "Finished epoch 49 / 100: cost 1.011335, train: 0.400000, val 0.400000, lr 1.000000e-01\n",
      "starting iteration  50\n",
      "Finished epoch 50 / 100: cost 1.010121, train: 0.400000, val 0.400000, lr 1.000000e-01\n",
      "Finished epoch 51 / 100: cost 1.008859, train: 0.400000, val 0.400000, lr 1.000000e-01\n",
      "Finished epoch 52 / 100: cost 1.007633, train: 0.400000, val 0.400000, lr 1.000000e-01\n",
      "Finished epoch 53 / 100: cost 1.006348, train: 0.400000, val 0.400000, lr 1.000000e-01\n",
      "Finished epoch 54 / 100: cost 1.005109, train: 0.400000, val 0.400000, lr 1.000000e-01\n",
      "Finished epoch 55 / 100: cost 1.003800, train: 0.400000, val 0.400000, lr 1.000000e-01\n",
      "Finished epoch 56 / 100: cost 1.002549, train: 0.400000, val 0.400000, lr 1.000000e-01\n",
      "Finished epoch 57 / 100: cost 1.001216, train: 0.400000, val 0.400000, lr 1.000000e-01\n",
      "Finished epoch 58 / 100: cost 0.999949, train: 0.400000, val 0.400000, lr 1.000000e-01\n",
      "Finished epoch 59 / 100: cost 0.998598, train: 0.400000, val 0.400000, lr 1.000000e-01\n",
      "starting iteration  60\n",
      "Finished epoch 60 / 100: cost 0.997306, train: 0.400000, val 0.400000, lr 1.000000e-01\n",
      "Finished epoch 61 / 100: cost 0.995975, train: 0.400000, val 0.400000, lr 1.000000e-01\n",
      "Finished epoch 62 / 100: cost 0.994723, train: 0.400000, val 0.400000, lr 1.000000e-01\n",
      "Finished epoch 63 / 100: cost 0.993374, train: 0.400000, val 0.400000, lr 1.000000e-01\n",
      "Finished epoch 64 / 100: cost 0.992111, train: 0.400000, val 0.400000, lr 1.000000e-01\n",
      "Finished epoch 65 / 100: cost 0.990743, train: 0.400000, val 0.400000, lr 1.000000e-01\n",
      "Finished epoch 66 / 100: cost 0.989469, train: 0.400000, val 0.400000, lr 1.000000e-01\n",
      "Finished epoch 67 / 100: cost 0.988082, train: 0.400000, val 0.400000, lr 1.000000e-01\n",
      "Finished epoch 68 / 100: cost 0.986797, train: 0.400000, val 0.400000, lr 1.000000e-01\n",
      "Finished epoch 69 / 100: cost 0.985390, train: 0.400000, val 0.400000, lr 1.000000e-01\n",
      "starting iteration  70\n",
      "Finished epoch 70 / 100: cost 0.984093, train: 0.400000, val 0.400000, lr 1.000000e-01\n",
      "Finished epoch 71 / 100: cost 0.982668, train: 0.400000, val 0.400000, lr 1.000000e-01\n",
      "Finished epoch 72 / 100: cost 0.981354, train: 0.400000, val 0.400000, lr 1.000000e-01\n",
      "Finished epoch 73 / 100: cost 0.979923, train: 0.400000, val 0.400000, lr 1.000000e-01\n",
      "Finished epoch 74 / 100: cost 0.978575, train: 0.400000, val 0.400000, lr 1.000000e-01\n",
      "Finished epoch 75 / 100: cost 0.977143, train: 0.400000, val 0.400000, lr 1.000000e-01\n",
      "Finished epoch 76 / 100: cost 0.975744, train: 0.400000, val 0.400000, lr 1.000000e-01\n",
      "Finished epoch 77 / 100: cost 0.974305, train: 0.400000, val 0.400000, lr 1.000000e-01\n",
      "Finished epoch 78 / 100: cost 0.972868, train: 0.400000, val 0.400000, lr 1.000000e-01\n",
      "Finished epoch 79 / 100: cost 0.971432, train: 0.400000, val 0.400000, lr 1.000000e-01\n",
      "starting iteration  80\n",
      "Finished epoch 80 / 100: cost 0.969956, train: 0.400000, val 0.400000, lr 1.000000e-01\n",
      "Finished epoch 81 / 100: cost 0.968524, train: 0.400000, val 0.400000, lr 1.000000e-01\n",
      "Finished epoch 82 / 100: cost 0.967007, train: 0.400000, val 0.400000, lr 1.000000e-01\n",
      "Finished epoch 83 / 100: cost 0.965581, train: 0.400000, val 0.400000, lr 1.000000e-01\n",
      "Finished epoch 84 / 100: cost 0.964022, train: 0.400000, val 0.400000, lr 1.000000e-01\n",
      "Finished epoch 85 / 100: cost 0.962603, train: 0.400000, val 0.400000, lr 1.000000e-01\n",
      "Finished epoch 86 / 100: cost 0.961004, train: 0.400000, val 0.400000, lr 1.000000e-01\n",
      "Finished epoch 87 / 100: cost 0.959586, train: 0.400000, val 0.400000, lr 1.000000e-01\n",
      "Finished epoch 88 / 100: cost 0.957956, train: 0.400000, val 0.400000, lr 1.000000e-01\n",
      "Finished epoch 89 / 100: cost 0.956526, train: 0.400000, val 0.400000, lr 1.000000e-01\n",
      "starting iteration  90\n",
      "Finished epoch 90 / 100: cost 0.954873, train: 0.400000, val 0.400000, lr 1.000000e-01\n",
      "Finished epoch 91 / 100: cost 0.953431, train: 0.400000, val 0.400000, lr 1.000000e-01\n",
      "Finished epoch 92 / 100: cost 0.951753, train: 0.400000, val 0.400000, lr 1.000000e-01\n",
      "Finished epoch 93 / 100: cost 0.950299, train: 0.400000, val 0.400000, lr 1.000000e-01\n",
      "Finished epoch 94 / 100: cost 0.948597, train: 0.400000, val 0.400000, lr 1.000000e-01\n",
      "Finished epoch 95 / 100: cost 0.947132, train: 0.400000, val 0.400000, lr 1.000000e-01\n",
      "Finished epoch 96 / 100: cost 0.945406, train: 0.400000, val 0.400000, lr 1.000000e-01\n",
      "Finished epoch 97 / 100: cost 0.943929, train: 0.400000, val 0.400000, lr 1.000000e-01\n",
      "Finished epoch 98 / 100: cost 0.942184, train: 0.400000, val 0.400000, lr 1.000000e-01\n",
      "Finished epoch 99 / 100: cost 0.940686, train: 0.400000, val 0.400000, lr 1.000000e-01\n",
      "finished optimization. best validation accuracy: 0.600000\n",
      "Final loss with vanilla SGD: 0.940686\n"
     ]
    }
   ],
   "source": [
    "from cs231n.classifier_trainer import ClassifierTrainer\n",
    "\n",
    "model = init_toy_model()\n",
    "trainer = ClassifierTrainer()\n",
    "# call the trainer to optimize the loss\n",
    "# Notice that we're using sample_batches=False, so we're performing Gradient Descent (no sampled batches of data)\n",
    "best_model, loss_history, _, _ = trainer.train(X, y, X, y,\n",
    "                                             model, two_layer_net,\n",
    "                                             reg=0.001,\n",
    "                                             learning_rate=1e-1, momentum=0.0, learning_rate_decay=1,\n",
    "                                             update='sgd', sample_batches=False,\n",
    "                                             num_epochs=100,\n",
    "                                             verbose=True)\n",
    "print('Final loss with vanilla SGD: %f' % (loss_history[-1], ))"
   ]
  },
  {
   "cell_type": "markdown",
   "metadata": {},
   "source": [
    "Now fill in the **momentum update** in the first missing code block inside the `train` function, and run the same optimization as above but with the momentum update. You should see a much better result in the final obtained loss:"
   ]
  },
  {
   "cell_type": "code",
   "execution_count": 28,
   "metadata": {},
   "outputs": [
    {
     "name": "stdout",
     "output_type": "stream",
     "text": [
      "starting iteration  0\n",
      "Finished epoch 0 / 100: cost 1.125220, train: 0.400000, val 0.400000, lr 1.000000e-01\n",
      "Finished epoch 1 / 100: cost 1.107355, train: 0.400000, val 0.400000, lr 1.000000e-01\n",
      "Finished epoch 2 / 100: cost 1.082366, train: 0.400000, val 0.400000, lr 1.000000e-01\n",
      "Finished epoch 3 / 100: cost 1.062956, train: 0.200000, val 0.200000, lr 1.000000e-01\n",
      "Finished epoch 4 / 100: cost 1.056309, train: 0.400000, val 0.400000, lr 1.000000e-01\n",
      "Finished epoch 5 / 100: cost 1.060496, train: 0.400000, val 0.400000, lr 1.000000e-01\n",
      "Finished epoch 6 / 100: cost 1.067216, train: 0.400000, val 0.400000, lr 1.000000e-01\n",
      "Finished epoch 7 / 100: cost 1.068161, train: 0.400000, val 0.400000, lr 1.000000e-01\n",
      "Finished epoch 8 / 100: cost 1.059913, train: 0.400000, val 0.400000, lr 1.000000e-01\n",
      "Finished epoch 9 / 100: cost 1.044799, train: 0.400000, val 0.400000, lr 1.000000e-01\n",
      "starting iteration  10\n",
      "Finished epoch 10 / 100: cost 1.028297, train: 0.200000, val 0.200000, lr 1.000000e-01\n",
      "Finished epoch 11 / 100: cost 1.015242, train: 0.600000, val 0.600000, lr 1.000000e-01\n",
      "Finished epoch 12 / 100: cost 1.007327, train: 0.400000, val 0.400000, lr 1.000000e-01\n",
      "Finished epoch 13 / 100: cost 1.002891, train: 0.400000, val 0.400000, lr 1.000000e-01\n",
      "Finished epoch 14 / 100: cost 0.998442, train: 0.400000, val 0.400000, lr 1.000000e-01\n",
      "Finished epoch 15 / 100: cost 0.991486, train: 0.400000, val 0.400000, lr 1.000000e-01\n",
      "Finished epoch 16 / 100: cost 0.980994, train: 0.400000, val 0.400000, lr 1.000000e-01\n",
      "Finished epoch 17 / 100: cost 0.967566, train: 0.400000, val 0.400000, lr 1.000000e-01\n",
      "Finished epoch 18 / 100: cost 0.953211, train: 0.600000, val 0.600000, lr 1.000000e-01\n",
      "Finished epoch 19 / 100: cost 0.939365, train: 0.400000, val 0.400000, lr 1.000000e-01\n",
      "starting iteration  20\n",
      "Finished epoch 20 / 100: cost 0.927013, train: 0.200000, val 0.200000, lr 1.000000e-01\n",
      "Finished epoch 21 / 100: cost 0.916019, train: 0.400000, val 0.400000, lr 1.000000e-01\n",
      "Finished epoch 22 / 100: cost 0.906615, train: 0.400000, val 0.400000, lr 1.000000e-01\n",
      "Finished epoch 23 / 100: cost 0.895739, train: 0.400000, val 0.400000, lr 1.000000e-01\n",
      "Finished epoch 24 / 100: cost 0.883325, train: 0.600000, val 0.600000, lr 1.000000e-01\n",
      "Finished epoch 25 / 100: cost 0.868924, train: 0.400000, val 0.400000, lr 1.000000e-01\n",
      "Finished epoch 26 / 100: cost 0.853357, train: 0.600000, val 0.600000, lr 1.000000e-01\n",
      "Finished epoch 27 / 100: cost 0.839343, train: 0.800000, val 0.800000, lr 1.000000e-01\n",
      "Finished epoch 28 / 100: cost 0.826565, train: 0.600000, val 0.600000, lr 1.000000e-01\n",
      "Finished epoch 29 / 100: cost 0.814707, train: 0.600000, val 0.600000, lr 1.000000e-01\n",
      "starting iteration  30\n",
      "Finished epoch 30 / 100: cost 0.804486, train: 0.600000, val 0.600000, lr 1.000000e-01\n",
      "Finished epoch 31 / 100: cost 0.793798, train: 0.600000, val 0.600000, lr 1.000000e-01\n",
      "Finished epoch 32 / 100: cost 0.782511, train: 0.600000, val 0.600000, lr 1.000000e-01\n",
      "Finished epoch 33 / 100: cost 0.771401, train: 0.600000, val 0.600000, lr 1.000000e-01\n",
      "Finished epoch 34 / 100: cost 0.759565, train: 0.800000, val 0.800000, lr 1.000000e-01\n",
      "Finished epoch 35 / 100: cost 0.749276, train: 0.600000, val 0.600000, lr 1.000000e-01\n",
      "Finished epoch 36 / 100: cost 0.740494, train: 0.400000, val 0.400000, lr 1.000000e-01\n",
      "Finished epoch 37 / 100: cost 0.731286, train: 0.400000, val 0.400000, lr 1.000000e-01\n",
      "Finished epoch 38 / 100: cost 0.723294, train: 0.400000, val 0.400000, lr 1.000000e-01\n",
      "Finished epoch 39 / 100: cost 0.715775, train: 0.400000, val 0.400000, lr 1.000000e-01\n",
      "starting iteration  40\n",
      "Finished epoch 40 / 100: cost 0.707801, train: 0.600000, val 0.600000, lr 1.000000e-01\n",
      "Finished epoch 41 / 100: cost 0.700965, train: 0.600000, val 0.600000, lr 1.000000e-01\n",
      "Finished epoch 42 / 100: cost 0.694539, train: 0.800000, val 0.800000, lr 1.000000e-01\n",
      "Finished epoch 43 / 100: cost 0.688068, train: 0.600000, val 0.600000, lr 1.000000e-01\n",
      "Finished epoch 44 / 100: cost 0.682277, train: 0.600000, val 0.600000, lr 1.000000e-01\n",
      "Finished epoch 45 / 100: cost 0.676757, train: 0.600000, val 0.600000, lr 1.000000e-01\n",
      "Finished epoch 46 / 100: cost 0.671309, train: 0.600000, val 0.600000, lr 1.000000e-01\n",
      "Finished epoch 47 / 100: cost 0.665160, train: 0.800000, val 0.800000, lr 1.000000e-01\n",
      "Finished epoch 48 / 100: cost 0.659684, train: 0.800000, val 0.800000, lr 1.000000e-01\n",
      "Finished epoch 49 / 100: cost 0.654924, train: 0.600000, val 0.600000, lr 1.000000e-01\n",
      "starting iteration  50\n",
      "Finished epoch 50 / 100: cost 0.651388, train: 0.600000, val 0.600000, lr 1.000000e-01\n",
      "Finished epoch 51 / 100: cost 0.647858, train: 0.600000, val 0.600000, lr 1.000000e-01\n",
      "Finished epoch 52 / 100: cost 0.644354, train: 0.600000, val 0.600000, lr 1.000000e-01\n",
      "Finished epoch 53 / 100: cost 0.641141, train: 0.600000, val 0.600000, lr 1.000000e-01\n",
      "Finished epoch 54 / 100: cost 0.637402, train: 0.800000, val 0.800000, lr 1.000000e-01\n",
      "Finished epoch 55 / 100: cost 0.633878, train: 0.800000, val 0.800000, lr 1.000000e-01\n",
      "Finished epoch 56 / 100: cost 0.630529, train: 0.800000, val 0.800000, lr 1.000000e-01\n",
      "Finished epoch 57 / 100: cost 0.626991, train: 0.800000, val 0.800000, lr 1.000000e-01\n",
      "Finished epoch 58 / 100: cost 0.623562, train: 0.800000, val 0.800000, lr 1.000000e-01\n",
      "Finished epoch 59 / 100: cost 0.620400, train: 0.800000, val 0.800000, lr 1.000000e-01\n",
      "starting iteration  60\n",
      "Finished epoch 60 / 100: cost 0.617649, train: 0.800000, val 0.800000, lr 1.000000e-01\n",
      "Finished epoch 61 / 100: cost 0.614649, train: 0.800000, val 0.800000, lr 1.000000e-01\n",
      "Finished epoch 62 / 100: cost 0.612319, train: 0.800000, val 0.800000, lr 1.000000e-01\n",
      "Finished epoch 63 / 100: cost 0.609449, train: 0.800000, val 0.800000, lr 1.000000e-01\n",
      "Finished epoch 64 / 100: cost 0.606737, train: 0.800000, val 0.800000, lr 1.000000e-01\n",
      "Finished epoch 65 / 100: cost 0.604003, train: 0.800000, val 0.800000, lr 1.000000e-01\n",
      "Finished epoch 66 / 100: cost 0.601308, train: 0.800000, val 0.800000, lr 1.000000e-01\n",
      "Finished epoch 67 / 100: cost 0.598893, train: 0.800000, val 0.800000, lr 1.000000e-01\n",
      "Finished epoch 68 / 100: cost 0.596186, train: 0.800000, val 0.800000, lr 1.000000e-01\n",
      "Finished epoch 69 / 100: cost 0.593349, train: 0.800000, val 0.800000, lr 1.000000e-01\n",
      "starting iteration  70\n",
      "Finished epoch 70 / 100: cost 0.590431, train: 0.800000, val 0.800000, lr 1.000000e-01\n",
      "Finished epoch 71 / 100: cost 0.587889, train: 0.800000, val 0.800000, lr 1.000000e-01\n",
      "Finished epoch 72 / 100: cost 0.585493, train: 0.800000, val 0.800000, lr 1.000000e-01\n",
      "Finished epoch 73 / 100: cost 0.582927, train: 0.800000, val 0.800000, lr 1.000000e-01\n",
      "Finished epoch 74 / 100: cost 0.580394, train: 0.800000, val 0.800000, lr 1.000000e-01\n",
      "Finished epoch 75 / 100: cost 0.577568, train: 0.800000, val 0.800000, lr 1.000000e-01\n",
      "Finished epoch 76 / 100: cost 0.574544, train: 0.800000, val 0.800000, lr 1.000000e-01\n",
      "Finished epoch 77 / 100: cost 0.571470, train: 0.800000, val 0.800000, lr 1.000000e-01\n",
      "Finished epoch 78 / 100: cost 0.568821, train: 0.800000, val 0.800000, lr 1.000000e-01\n",
      "Finished epoch 79 / 100: cost 0.566309, train: 0.800000, val 0.800000, lr 1.000000e-01\n",
      "starting iteration  80\n",
      "Finished epoch 80 / 100: cost 0.563435, train: 0.800000, val 0.800000, lr 1.000000e-01\n",
      "Finished epoch 81 / 100: cost 0.560370, train: 0.800000, val 0.800000, lr 1.000000e-01\n",
      "Finished epoch 82 / 100: cost 0.557238, train: 0.800000, val 0.800000, lr 1.000000e-01\n",
      "Finished epoch 83 / 100: cost 0.554067, train: 0.800000, val 0.800000, lr 1.000000e-01\n",
      "Finished epoch 84 / 100: cost 0.551146, train: 0.800000, val 0.800000, lr 1.000000e-01\n",
      "Finished epoch 85 / 100: cost 0.547899, train: 0.800000, val 0.800000, lr 1.000000e-01\n",
      "Finished epoch 86 / 100: cost 0.544725, train: 0.800000, val 0.800000, lr 1.000000e-01\n",
      "Finished epoch 87 / 100: cost 0.541299, train: 0.800000, val 0.800000, lr 1.000000e-01\n",
      "Finished epoch 88 / 100: cost 0.537863, train: 0.800000, val 0.800000, lr 1.000000e-01\n",
      "Finished epoch 89 / 100: cost 0.534274, train: 0.800000, val 0.800000, lr 1.000000e-01\n",
      "starting iteration  90\n",
      "Finished epoch 90 / 100: cost 0.530788, train: 0.800000, val 0.800000, lr 1.000000e-01\n",
      "Finished epoch 91 / 100: cost 0.527103, train: 0.800000, val 0.800000, lr 1.000000e-01\n",
      "Finished epoch 92 / 100: cost 0.523383, train: 0.800000, val 0.800000, lr 1.000000e-01\n",
      "Finished epoch 93 / 100: cost 0.519479, train: 0.800000, val 0.800000, lr 1.000000e-01\n",
      "Finished epoch 94 / 100: cost 0.515567, train: 0.800000, val 0.800000, lr 1.000000e-01\n",
      "Finished epoch 95 / 100: cost 0.511614, train: 0.800000, val 0.800000, lr 1.000000e-01\n",
      "Finished epoch 96 / 100: cost 0.507558, train: 0.800000, val 0.800000, lr 1.000000e-01\n",
      "Finished epoch 97 / 100: cost 0.503282, train: 0.800000, val 0.800000, lr 1.000000e-01\n",
      "Finished epoch 98 / 100: cost 0.498852, train: 0.800000, val 0.800000, lr 1.000000e-01\n",
      "Finished epoch 99 / 100: cost 0.494394, train: 0.800000, val 0.800000, lr 1.000000e-01\n",
      "finished optimization. best validation accuracy: 0.800000\n",
      "Final loss with momentum SGD: 0.494394. We get: 0.494394\n"
     ]
    }
   ],
   "source": [
    "model = init_toy_model()\n",
    "trainer = ClassifierTrainer()\n",
    "# call the trainer to optimize the loss\n",
    "# Notice that we're using sample_batches=False, so we're performing Gradient Descent (no sampled batches of data)\n",
    "best_model, loss_history, _, _ = trainer.train(X, y, X, y,\n",
    "                                             model, two_layer_net,\n",
    "                                             reg=0.001,\n",
    "                                             learning_rate=1e-1, momentum=0.9, learning_rate_decay=1,\n",
    "                                             update='momentum', sample_batches=False,\n",
    "                                             num_epochs=100,\n",
    "                                             verbose=True)\n",
    "correct_loss = 0.494394\n",
    "print('Final loss with momentum SGD: %f. We get: %f' % (loss_history[-1], correct_loss))"
   ]
  },
  {
   "cell_type": "markdown",
   "metadata": {},
   "source": [
    "The **RMSProp** update step is given as follows:\n",
    "\n",
    "```\n",
    "cache = decay_rate * cache + (1 - decay_rate) * dx**2\n",
    "x += - learning_rate * dx / np.sqrt(cache + 1e-8)\n",
    "```\n",
    "\n",
    "Here, `decay_rate` is a hyperparameter and typical values are [0.9, 0.99, 0.999].\n",
    "\n",
    "Implement the **RMSProp** update rule inside the `train` function and rerun the optimization:"
   ]
  },
  {
   "cell_type": "code",
   "execution_count": null,
   "metadata": {
    "collapsed": true
   },
   "outputs": [],
   "source": [
    "model = init_toy_model()\n",
    "trainer = ClassifierTrainer()\n",
    "# call the trainer to optimize the loss\n",
    "# Notice that we're using sample_batches=False, so we're performing Gradient Descent (no sampled batches of data)\n",
    "best_model, loss_history, _, _ = trainer.train(X, y, X, y,\n",
    "                                             model, two_layer_net,\n",
    "                                             reg=0.001,\n",
    "                                             learning_rate=1e-1, momentum=0.9, learning_rate_decay=1,\n",
    "                                             update='rmsprop', sample_batches=False,\n",
    "                                             num_epochs=100,\n",
    "                                             verbose=False)\n",
    "correct_loss = 0.439368\n",
    "print('Final loss with RMSProp: %f. We get: %f' % (loss_history[-1], correct_loss))"
   ]
  },
  {
   "cell_type": "markdown",
   "metadata": {},
   "source": [
    "# Load the data\n",
    "Now that you have implemented a two-layer network that passes gradient checks, it's time to load up our favorite CIFAR-10 data so we can use it to train a classifier."
   ]
  },
  {
   "cell_type": "code",
   "execution_count": null,
   "metadata": {
    "collapsed": true
   },
   "outputs": [],
   "source": [
    "from cs231n.data_utils import load_CIFAR10\n",
    "\n",
    "def get_CIFAR10_data(num_training=49000, num_validation=1000, num_test=1000):\n",
    "    \"\"\"\n",
    "    Load the CIFAR-10 dataset from disk and perform preprocessing to prepare\n",
    "    it for the two-layer neural net classifier.\n",
    "    \"\"\"\n",
    "    # Load the raw CIFAR-10 data\n",
    "    cifar10_dir = 'cs231n/datasets/cifar-10-batches-py'\n",
    "    X_train, y_train, X_test, y_test = load_CIFAR10(cifar10_dir)\n",
    "        \n",
    "    # Subsample the data\n",
    "    mask = range(num_training, num_training + num_validation)\n",
    "    X_val = X_train[mask]\n",
    "    y_val = y_train[mask]\n",
    "    mask = range(num_training)\n",
    "    X_train = X_train[mask]\n",
    "    y_train = y_train[mask]\n",
    "    mask = range(num_test)\n",
    "    X_test = X_test[mask]\n",
    "    y_test = y_test[mask]\n",
    "\n",
    "    # Normalize the data: subtract the mean image\n",
    "    mean_image = np.mean(X_train, axis=0)\n",
    "    X_train -= mean_image\n",
    "    X_val -= mean_image\n",
    "    X_test -= mean_image\n",
    "\n",
    "    # Reshape data to rows\n",
    "    X_train = X_train.reshape(num_training, -1)\n",
    "    X_val = X_val.reshape(num_validation, -1)\n",
    "    X_test = X_test.reshape(num_test, -1)\n",
    "\n",
    "    return X_train, y_train, X_val, y_val, X_test, y_test\n",
    "\n",
    "\n",
    "# Invoke the above function to get our data.\n",
    "X_train, y_train, X_val, y_val, X_test, y_test = get_CIFAR10_data()\n",
    "print('Train data shape: ', X_train.shape)\n",
    "print('Train labels shape: ', y_train.shape)\n",
    "print('Validation data shape: ', X_val.shape)\n",
    "print('Validation labels shape: ', y_val.shape)\n",
    "print('Test data shape: ', X_test.shape)\n",
    "print('Test labels shape: ', y_test.shape)"
   ]
  },
  {
   "cell_type": "markdown",
   "metadata": {},
   "source": [
    "# Train a network\n",
    "To train our network we will use SGD with momentum. In addition, we will adjust the learning rate with an exponential learning rate schedule as optimization proceeds; after each epoch, we will reduce the learning rate by multiplying it by a decay rate."
   ]
  },
  {
   "cell_type": "code",
   "execution_count": null,
   "metadata": {
    "collapsed": true,
    "scrolled": false
   },
   "outputs": [],
   "source": [
    "from cs231n.classifiers.neural_net import init_two_layer_model\n",
    "\n",
    "model = init_two_layer_model(32*32*3, 50, 10) # input size, hidden size, number of classes\n",
    "trainer = ClassifierTrainer()\n",
    "best_model, loss_history, train_acc, val_acc = trainer.train(X_train, y_train, X_val, y_val,\n",
    "                                             model, two_layer_net,\n",
    "                                             num_epochs=5, reg=1.0,\n",
    "                                             momentum=0.9, learning_rate_decay = 0.95,\n",
    "                                             learning_rate=1e-5, verbose=True)\n",
    "\n"
   ]
  },
  {
   "cell_type": "markdown",
   "metadata": {},
   "source": [
    "# Debug the training\n",
    "With the default parameters we provided above, you should get a validation accuracy of about 0.37 on the validation set. This isn't very good.\n",
    "\n",
    "One strategy for getting insight into what's wrong is to plot the loss function and the accuracies on the training and validation sets during optimization.\n",
    "\n",
    "Another strategy is to visualize the weights that were learned in the first layer of the network. In most neural networks trained on visual data, the first layer weights typically show some visible structure when visualized."
   ]
  },
  {
   "cell_type": "code",
   "execution_count": null,
   "metadata": {
    "collapsed": true
   },
   "outputs": [],
   "source": [
    "# Plot the loss function and train / validation accuracies\n",
    "plt.subplot(2, 1, 1)\n",
    "plt.plot(loss_history)\n",
    "plt.title('Loss history')\n",
    "plt.xlabel('Iteration')\n",
    "plt.ylabel('Loss')\n",
    "\n",
    "plt.subplot(2, 1, 2)\n",
    "plt.plot(train_acc)\n",
    "plt.plot(val_acc)\n",
    "plt.legend(['Training accuracy', 'Validation accuracy'], loc='lower right')\n",
    "plt.xlabel('Epoch')\n",
    "plt.ylabel('Clasification accuracy')"
   ]
  },
  {
   "cell_type": "code",
   "execution_count": null,
   "metadata": {
    "collapsed": true
   },
   "outputs": [],
   "source": [
    "from cs231n.vis_utils import visualize_grid\n",
    "\n",
    "# Visualize the weights of the network\n",
    "\n",
    "def show_net_weights(model):\n",
    "    plt.imshow(visualize_grid(model['W1'].T.reshape(-1, 32, 32, 3), padding=3).astype('uint8'))\n",
    "    plt.gca().axis('off')\n",
    "    plt.show()\n",
    "\n",
    "show_net_weights(model)"
   ]
  },
  {
   "cell_type": "markdown",
   "metadata": {},
   "source": [
    "# Tune your hyperparameters\n",
    "\n",
    "**What's wrong?**. Looking at the visualizations above, we see that the loss is decreasing more or less linearly, which seems to suggest that the learning rate may be too low. Moreover, there is no gap between the training and validation accuracy, suggesting that the model we used has low capacity, and that we should increase its size. On the other hand, with a very large model we would expect to see more overfitting, which would manifest itself as a very large gap between the training and validation accuracy.\n",
    "\n",
    "**Tuning**. Tuning the hyperparameters and developing intuition for how they affect the final performance is a large part of using Neural Networks, so we want you to get a lot of practice. Below, you should experiment with different values of the various hyperparameters, including hidden layer size, learning rate, numer of training epochs, and regularization strength. You might also consider tuning the momentum and learning rate decay parameters, but you should be able to get good performance using the default values.\n",
    "\n",
    "**Approximate results**. You should be aim to achieve a classification accuracy of greater than 50% on the validation set. Our best network gets over 56% on the validation set.\n",
    "\n",
    "**Experiment**: You goal in this exercise is to get as good of a result on CIFAR-10 as you can, with a fully-connected Neural Network. For every 1% above 56% on the Test set we will award you with one extra bonus point. Feel free implement your own techniques (e.g. PCA to reduce dimensionality, or adding dropout, or adding features to the solver, etc.)."
   ]
  },
  {
   "cell_type": "code",
   "execution_count": null,
   "metadata": {
    "collapsed": true
   },
   "outputs": [],
   "source": [
    "best_model = None # store the best model into this \n",
    "\n",
    "#################################################################################\n",
    "# TODO: Tune hyperparameters using the validation set. Store your best trained  #\n",
    "# model in best_model.                                                          #\n",
    "#                                                                               #\n",
    "# To help debug your network, it may help to use visualizations similar to the  #\n",
    "# ones we used above; these visualizations will have significant qualitative    #\n",
    "# differences from the ones we saw above for the poorly tuned network.          #\n",
    "#                                                                               #\n",
    "# Tweaking hyperparameters by hand can be fun, but you might find it useful to  #\n",
    "# write code to sweep through possible combinations of hyperparameters          #\n",
    "# automatically like we did on the previous assignment.                         #\n",
    "#################################################################################\n",
    "# input size, hidden size, number of classes\n",
    "model = init_two_layer_model(32*32*3, 1000, 10)\n",
    "trainer = ClassifierTrainer()\n",
    "best_model, loss_history, train_acc, val_acc = trainer.train(X_train, y_train,\n",
    "                                             X_val, y_val,\n",
    "                                             model, two_layer_net,\n",
    "                                             num_epochs=1, reg=0.0,\n",
    "                                             momentum=0.0,\n",
    "                                             learning_rate_decay=0.0,\n",
    "                                             learning_rate=1e-2, verbose=True)\n",
    "#################################################################################\n",
    "#                               END OF YOUR CODE                                #\n",
    "#################################################################################"
   ]
  },
  {
   "cell_type": "code",
   "execution_count": null,
   "metadata": {
    "collapsed": true
   },
   "outputs": [],
   "source": [
    "# visualize the weights\n",
    "show_net_weights(best_model)"
   ]
  },
  {
   "cell_type": "markdown",
   "metadata": {},
   "source": [
    "# Run on the test set\n",
    "When you are done experimenting, you should evaluate your final trained network on the test set."
   ]
  },
  {
   "cell_type": "code",
   "execution_count": null,
   "metadata": {
    "collapsed": true
   },
   "outputs": [],
   "source": [
    "scores_test = two_layer_net(X_test, best_model)\n",
    "print('Test accuracy: ', np.mean(np.argmax(scores_test, axis=1) == y_test))"
   ]
  }
 ],
 "metadata": {
  "kernelspec": {
   "display_name": "Python 3",
   "language": "python",
   "name": "python3"
  },
  "language_info": {
   "codemirror_mode": {
    "name": "ipython",
    "version": 2
   },
   "file_extension": ".py",
   "mimetype": "text/x-python",
   "name": "python",
   "nbconvert_exporter": "python",
   "pygments_lexer": "ipython2",
   "version": "2.7.13"
  }
 },
 "nbformat": 4,
 "nbformat_minor": 1
}
